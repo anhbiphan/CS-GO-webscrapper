{
 "cells": [
  {
   "cell_type": "markdown",
   "metadata": {},
   "source": [
    "## Notes for CS:GO game. Player ranking based on true skill implementation\n",
    "\n",
    "### https://trueskill.org/\n",
    "\n",
    "## True skill documentation based on microsoft\n",
    "### https://www.microsoft.com/en-us/research/wp-content/uploads/2007/01/NIPS2006_0688.pdf"
   ]
  },
  {
   "cell_type": "code",
   "execution_count": null,
   "metadata": {},
   "outputs": [],
   "source": [
    "# Mu value follows player’s win/draw/lose records. Higher value means higher game skill\n",
    "# And sigma value follows the number of games\n",
    "\n",
    "# trueskill.Rating(mu=20.604, sigma=7.171)\n",
    "# N:N team match – [(r1, r2, r3), (r4, r5, r6)]\n",
    "\n",
    "\n",
    "\n",
    "# Function to find the winner based on a game of 2 teams\n",
    "\n",
    "# import itertools\n",
    "# import math\n",
    "\n",
    "# def win_probability(team1, team2):\n",
    "#     delta_mu = sum(r.mu for r in team1) - sum(r.mu for r in team2)\n",
    "#     sum_sigma = sum(r.sigma ** 2 for r in itertools.chain(team1, team2))\n",
    "#     size = len(team1) + len(team2)\n",
    "#     denom = math.sqrt(size * (BETA * BETA) + sum_sigma)\n",
    "#     ts = trueskill.global_env()\n",
    "#     return ts.cdf(delta_mu / denom)"
   ]
  }
 ],
 "metadata": {
  "kernelspec": {
   "display_name": "Python [conda env:learn-env] *",
   "language": "python",
   "name": "conda-env-learn-env-py"
  },
  "language_info": {
   "codemirror_mode": {
    "name": "ipython",
    "version": 3
   },
   "file_extension": ".py",
   "mimetype": "text/x-python",
   "name": "python",
   "nbconvert_exporter": "python",
   "pygments_lexer": "ipython3",
   "version": "3.6.9"
  }
 },
 "nbformat": 4,
 "nbformat_minor": 2
}
