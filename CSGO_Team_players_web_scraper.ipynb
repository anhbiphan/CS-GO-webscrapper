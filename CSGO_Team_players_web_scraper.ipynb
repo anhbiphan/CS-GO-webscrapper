{
 "cells": [
  {
   "cell_type": "code",
   "execution_count": 77,
   "metadata": {},
   "outputs": [],
   "source": [
    "import requests \n",
    "from bs4 import BeautifulSoup\n",
    "\n",
    "import pandas as pd\n",
    "import numpy as np\n",
    "import seaborn as sns\n",
    "import matplotlib.pyplot as plt"
   ]
  },
  {
   "cell_type": "code",
   "execution_count": 78,
   "metadata": {},
   "outputs": [],
   "source": [
    "def links(urls, x):\n",
    "    \"\"\"\n",
    "    Function to get website urls\n",
    "    Takes in a url from any website \n",
    "    and a filter by to search for what urls start with\n",
    "    \n",
    "    \"\"\"\n",
    "    new_list = []\n",
    "    content = requests.get(urls)\n",
    "\n",
    "    soup = BeautifulSoup(content.text, 'html.parser')\n",
    "    href = soup.find_all('a', href = True)\n",
    "    for link in href:\n",
    "        if link['href'].startswith(x):\n",
    "            new_list.append(link['href'])\n",
    "    \n",
    "    return new_list"
   ]
  },
  {
   "cell_type": "code",
   "execution_count": 79,
   "metadata": {},
   "outputs": [],
   "source": [
    "def team_links(url, x, limit):\n",
    "    \"\"\"\n",
    "    import bs4\n",
    "    import request\n",
    "    Gets back a list of url \n",
    "    argument url takes a actual url\n",
    "    x filters out href elements\n",
    "    Created by Jesus Christ\n",
    "    \n",
    "    \"\"\"\n",
    "    teams_li = []\n",
    "    team_url = url\n",
    "    req_url = requests.get(team_url)\n",
    "    soup = BeautifulSoup(req_url.text, 'html.parser')\n",
    "    href = soup.find_all('a', href = True)\n",
    "    for links in href: \n",
    "        if links['href'].startswith(x):\n",
    "            teams_li.append(links['href'])\n",
    "    return(teams_li[0:limit])\n"
   ]
  },
  {
   "cell_type": "code",
   "execution_count": 86,
   "metadata": {},
   "outputs": [],
   "source": [
    "team_url = 'https://www.hltv.org/stats/matches?startDate=2014-01-01&endDate=2014-12-31&offset=50'\n",
    "req_url = requests.get(team_url)\n",
    "soup = BeautifulSoup(req_url.text, 'html.parser')"
   ]
  },
  {
   "cell_type": "code",
   "execution_count": 87,
   "metadata": {
    "scrolled": false
   },
   "outputs": [
    {
     "name": "stdout",
     "output_type": "stream",
     "text": [
      "<!DOCTYPE HTML>\n",
      "<html lang=\"en-US\">\n",
      " <head>\n",
      "  <meta charset=\"utf-8\"/>\n",
      "  <meta content=\"text/html; charset=utf-8\" http-equiv=\"Content-Type\"/>\n",
      "  <meta content=\"IE=Edge,chrome=1\" http-equiv=\"X-UA-Compatible\"/>\n",
      "  <meta content=\"noindex, nofollow\" name=\"robots\"/>\n",
      "  <meta content=\"width=device-width,initial-scale=1\" name=\"viewport\"/>\n",
      "  <title>\n",
      "   Just a moment...\n",
      "  </title>\n",
      "  <style type=\"text/css\">\n",
      "   html, body {width: 100%; height: 100%; margin: 0; padding: 0;}\n",
      "    body {background-color: #ffffff; color: #000000; font-family:-apple-system, system-ui, BlinkMacSystemFont, \"Segoe UI\", Roboto, Oxygen, Ubuntu, \"Helvetica Neue\",Arial, sans-serif; font-size: 16px; line-height: 1.7em;-webkit-font-smoothing: antialiased;}\n",
      "    h1 { text-align: center; font-weight:700; margin: 16px 0; font-size: 32px; color:#000000; line-height: 1.25;}\n",
      "    p {font-size: 20px; font-weight: 400; margin: 8px 0;}\n",
      "    p, .attribution, {text-align: center;}\n",
      "    #spinner {margin: 0 auto 30px auto; display: block;}\n",
      "    .attribution {margin-top: 32px;}\n",
      "    @keyframes fader     { 0% {opacity: 0.2;} 50% {opacity: 1.0;} 100% {opacity: 0.2;} }\n",
      "    @-webkit-keyframes fader { 0% {opacity: 0.2;} 50% {opacity: 1.0;} 100% {opacity: 0.2;} }\n",
      "    #cf-bubbles > .bubbles { animation: fader 1.6s infinite;}\n",
      "    #cf-bubbles > .bubbles:nth-child(2) { animation-delay: .2s;}\n",
      "    #cf-bubbles > .bubbles:nth-child(3) { animation-delay: .4s;}\n",
      "    .bubbles { background-color: #f58220; width:20px; height: 20px; margin:2px; border-radius:100%; display:inline-block; }\n",
      "    a { color: #2c7cb0; text-decoration: none; -moz-transition: color 0.15s ease; -o-transition: color 0.15s ease; -webkit-transition: color 0.15s ease; transition: color 0.15s ease; }\n",
      "    a:hover{color: #f4a15d}\n",
      "    .attribution{font-size: 16px; line-height: 1.5;}\n",
      "    .ray_id{display: block; margin-top: 8px;}\n",
      "    #cf-wrapper #challenge-form { padding-top:25px; padding-bottom:25px; }\n",
      "    #cf-hcaptcha-container { text-align:center;}\n",
      "    #cf-hcaptcha-container iframe { display: inline-block;}\n",
      "  </style>\n",
      "  <meta content=\"12\" http-equiv=\"refresh\"/>\n",
      "  <script type=\"text/javascript\">\n",
      "   //<![CDATA[\n",
      "  (function(){\n",
      "    \n",
      "    var a = function() {try{return !!window.addEventListener} catch(e) {return !1} },\n",
      "    b = function(b, c) {a() ? document.addEventListener(\"DOMContentLoaded\", b, c) : document.attachEvent(\"onreadystatechange\", b)};\n",
      "    b(function(){\n",
      "      var cookiesEnabled=(navigator.cookieEnabled)? true : false;\n",
      "      var cookieSupportInfix=cookiesEnabled?'/nocookie':'/cookie';\n",
      "      var a = document.getElementById('cf-content');a.style.display = 'block';\n",
      "      var isIE = /(MSIE|Trident\\/|Edge\\/)/i.test(window.navigator.userAgent);\n",
      "      var trkjs = isIE ? new Image() : document.createElement('img');\n",
      "      trkjs.setAttribute(\"src\", \"/cdn-cgi/images/trace/jschal/js\"+cookieSupportInfix+\"/transparent.gif?ray=5cf41cdaeda02f61\");\n",
      "      trkjs.id = \"trk_jschal_js\";\n",
      "      trkjs.setAttribute(\"alt\", \"\");\n",
      "      document.body.appendChild(trkjs);\n",
      "      \n",
      "      setTimeout(function(){\n",
      "        var s,t,o,p, b,r,e,a,k,i,n,g,cpo,f, lIOWlcG={\"GfOKxZUtNJY\":+((!+[]+(!![])+!![]+!![]+!![]+!![]+!![]+!![]+[])+(!+[]+(!![])+!![])+(!+[]+(!![])+!![]+!![]+!![]+!![]+!![]+!![])+(!+[]-(!![]))+(!+[]+(!![])+!![]+!![])+(+!![])+(!+[]+(!![])+!![]+!![]+!![]+!![])+(!+[]+(!![])+!![]+!![])+(!+[]+(!![])+!![]+!![]+!![]+!![]+!![]))/+((!+[]+(!![])-[]+[])+(!+[]+(!![])+!![])+(!+[]+(!![])+!![]+!![]+!![])+(!+[]+(!![])+!![]+!![]+!![]+!![]+!![])+(!+[]+(!![])+!![]+!![]+!![]+!![]+!![]+!![]+!![])+(!+[]+(!![])+!![]+!![]+!![]+!![]+!![]+!![]+!![])+(+!![])+(!+[]+(!![])-[])+(!+[]+(!![])+!![]+!![]+!![]+!![]+!![]))};\n",
      "        g = String.fromCharCode;\n",
      "        o = \"ABCDEFGHIJKLMNOPQRSTUVWXYZabcdefghijklmnopqrstuvwxyz0123456789+/=\";\n",
      "        e = function(s) {\n",
      "          s += \"==\".slice(2 - (s.length & 3));\n",
      "          var bm, r = \"\", r1, r2, i = 0, r3 = '<span class=\"cf-error-code\">1020</span>';\n",
      "          for (; i < s.length;) {\n",
      "              bm = o.indexOf(s.charAt(i++)) << 18 | o.indexOf(s.charAt(i++)) << 12\n",
      "                      | (r1 = o.indexOf(s.charAt(i++))) << 6 | (r2 = o.indexOf(s.charAt(i++)));\n",
      "              r += r1 === 64 ? g(bm >> 16 & 255)\n",
      "                      : r2 === 64 ? g(bm >> 16 & 255, bm >> 8 & 255)\n",
      "                      : g(bm >> 16 & 255, bm >> 8 & 255, bm & 255);\n",
      "          }\n",
      "          return r;\n",
      "        };\n",
      "        t = document.createElement('div');\n",
      "        cpo = {};\n",
      "        t.innerHTML=\"<a href='/'>x</a>\";\n",
      "        cpo.src = \"/cdn-cgi/challenge-platform/orchestrate/jsch/v1\";\n",
      "        t = t.firstChild.href;r = (setInterval(function(){}, 100),t.match(/https?:\\/\\//)[0]);\n",
      "        t = t.substr(r.length); t = t.substr(0,t.length-1); k = 'qqJfabkPM';\n",
      "        a = document.getElementById('jschl+answer'.replace('+', '-'));\n",
      "        f = document.getElementById('challenge-form'); a.value = '';\n",
      "        ;k+=+((!+[]+(!![])+!![]+!![]+!![]+!![]+!![]+[]));lIOWlcG.GfOKxZUtNJY*=function(p){var p = eval(eval(e(\"ZG9jdW1l\")+(undefined+\"\")[1]+(true+\"\")[0]+(+(+!+[]+[+!+[]]+(!![]+[])[!+[]+!+[]+!+[]]+[!+[]+!+[]]+[+[]])+[])[+!+[]]+g(103)+(true+\"\")[3]+(true+\"\")[0]+\"Element\"+g(66)+(NaN+[Infinity])[10]+\"Id(\"+g(107)+\").\"+e(\"aW5uZXJIVE1M\"))); return +(p)}();lIOWlcG.GfOKxZUtNJY*=+((!+[]+(!![])+!![]+!![]+!![]+!![]+!![]+!![]+!![]+[])+(!+[]+(!![])+!![]+!![])+(+!![])+(!+[]-(!![]))+(!+[]+(!![])+!![]+!![]+!![]+!![]+!![]+!![])+(!+[]+(!![])+!![])+(!+[]+(!![])+!![]+!![]+!![]+!![]+!![]+!![]+!![])+(!+[]+(!![])+!![]+!![]+!![]+!![]+!![]+!![])+(+!![]))/+((!+[]+(!![])+!![]+!![]+!![]+!![]+!![]+!![]+!![]+[])+(!+[]+(!![])+!![]+!![]+!![]+!![]+!![]+!![]+!![])+(!+[]+(!![])-[])+(+!![])+(!+[]+(!![])+!![]+!![]+!![]+!![]+!![]+!![]+!![])+(!+[]+(!![])-[])+(!+[]+(!![])+!![]+!![]+!![]+!![]+!![]+!![])+(!+[]+(!![])+!![])+(!+[]+(!![])+!![]+!![]+!![]+!![]+!![]));lIOWlcG.GfOKxZUtNJY+=+((!+[]+(!![])+!![]+!![]+!![]+!![]+!![]+!![]+!![]+[])+(!+[]+(!![])-[])+(!+[]-(!![]))+(!+[]+(!![])+!![]+!![])+(+!![])+(!+[]+(!![])+!![]+!![]+!![]+!![]+!![]+!![]+!![])+(!+[]+(!![])+!![]+!![]+!![]+!![]+!![]+!![])+(!+[]+(!![])-[])+(!+[]+(!![])+!![]))/+((!+[]+(!![])-[]+[])+(!+[]+(!![])+!![]+!![]+!![])+(+!![])+(!+[]+(!![])+!![]+!![]+!![]+!![]+!![])+(!+[]+(!![])+!![]+!![])+(!+[]-(!![]))+(+!![])+(!+[]-(!![]))+(!+[]+(!![])+!![]+!![]+!![]+!![]+!![]+!![]));lIOWlcG.GfOKxZUtNJY-=+((!+[]+(!![])+!![]+!![]+!![]+!![]+!![]+!![]+[])+(!+[]+(!![])+!![])+(!+[]+(!![])+!![]+!![]+!![]+!![]+!![]+!![])+(!+[]-(!![]))+(!+[]+(!![])+!![]+!![])+(+!![])+(!+[]+(!![])+!![]+!![]+!![]+!![])+(!+[]+(!![])+!![]+!![])+(+!![]))/+((!+[]+(!![])+!![]+!![]+!![]+!![]+[])+(!+[]+(!![])+!![]+!![]+!![]+!![])+(!+[]+(!![])-[])+(!+[]+(!![])+!![]+!![]+!![]+!![])+(!+[]+(!![])+!![]+!![]+!![]+!![]+!![])+(!+[]+(!![])+!![]+!![]+!![]+!![]+!![]+!![])+(!+[]+(!![])+!![]+!![])+(!+[]-(!![]))+(!+[]+(!![])+!![]+!![]+!![]+!![]+!![]+!![]));lIOWlcG.GfOKxZUtNJY*=+((!+[]+(!![])+!![]+!![]+!![]+!![]+!![]+!![]+!![]+[])+(!+[]+(!![])-[])+(!+[]-(!![]))+(!+[]+(!![])+!![]+!![])+(+!![])+(!+[]+(!![])+!![]+!![]+!![]+!![]+!![]+!![]+!![])+(!+[]+(!![])+!![]+!![]+!![]+!![]+!![]+!![])+(!+[]+(!![])-[])+(!+[]+(!![])+!![]))/+((!+[]+(!![])+!![]+!![]+[])+(!+[]+(!![])-[])+(!+[]+(!![])+!![]+!![]+!![]+!![]+!![]+!![]+!![])+(!+[]+(!![])+!![]+!![]+!![]+!![]+!![])+(!+[]+(!![])+!![]+!![]+!![]+!![]+!![])+(!+[]+(!![])+!![])+(!+[]+(!![])-[])+(!+[]-(!![]))+(!+[]+(!![])+!![]+!![]+!![]+!![]+!![]+!![]));lIOWlcG.GfOKxZUtNJY+=+((!+[]+(!![])+!![]+!![]+!![]+!![]+!![]+[])+(!+[]+(!![])+!![]+!![]+!![]+!![]+!![]+!![]+!![])+(!+[]+(!![])+!![]+!![]+!![]+!![]+!![])+(!+[]-(!![]))+(!+[]-(!![]))+(!+[]+(!![])+!![])+(!+[]+(!![])+!![]+!![])+(!+[]+(!![])+!![])+(!+[]+(!![])+!![]+!![]+!![]+!![]+!![]))/+((!+[]+(!![])+!![]+!![]+!![]+[])+(!+[]+(!![])+!![]+!![]+!![]+!![])+(!+[]+(!![])+!![]+!![]+!![]+!![])+(!+[]+(!![])+!![]+!![])+(!+[]+(!![])+!![]+!![]+!![]+!![]+!![]+!![])+(+!![])+(!+[]+(!![])+!![]+!![]+!![]+!![]+!![]+!![]+!![])+(!+[]+(!![])+!![]+!![]+!![])+(!+[]+(!![])-[]));lIOWlcG.GfOKxZUtNJY+=+((!+[]+(!![])+!![]+!![]+!![]+!![]+!![]+!![]+!![]+[])+(!+[]+(!![])+!![]+!![])+(+!![])+(!+[]-(!![]))+(!+[]+(!![])+!![]+!![]+!![]+!![]+!![]+!![])+(!+[]+(!![])+!![])+(!+[]+(!![])+!![]+!![]+!![]+!![]+!![]+!![]+!![])+(!+[]+(!![])+!![]+!![]+!![]+!![]+!![]+!![])+(+!![]))/+((!+[]+(!![])+!![]+!![]+!![]+!![]+[])+(!+[]+(!![])+!![]+!![]+!![]+!![]+!![]+!![])+(!+[]+(!![])+!![]+!![]+!![]+!![]+!![])+(+!![])+(!+[]+(!![])-[])+(!+[]+(!![])+!![]+!![]+!![]+!![])+(!+[]+(!![])-[])+(!+[]+(!![])+!![]+!![]+!![]+!![]+!![]+!![]+!![])+(!+[]+(!![])-[]));lIOWlcG.GfOKxZUtNJY*=+((!+[]+(!![])+!![]+!![]+!![]+!![]+!![]+!![]+[])+(!+[]+(!![])+!![])+(!+[]+(!![])+!![]+!![]+!![]+!![]+!![]+!![])+(!+[]-(!![]))+(!+[]+(!![])+!![]+!![])+(+!![])+(!+[]+(!![])+!![]+!![]+!![]+!![])+(!+[]+(!![])+!![]+!![])+(+!![]))/+((!+[]+(!![])+!![]+!![]+!![]+[])+(!+[]+(!![])+!![]+!![]+!![]+!![]+!![]+!![])+(!+[]+(!![])+!![]+!![]+!![])+(!+[]+(!![])+!![]+!![])+(!+[]+(!![])+!![]+!![]+!![])+(!+[]-(!![]))+(!+[]+(!![])+!![]+!![])+(!+[]+(!![])+!![]+!![]+!![]+!![]+!![]+!![])+(!+[]+(!![])+!![]+!![]+!![]));lIOWlcG.GfOKxZUtNJY+=+((!+[]+(!![])+!![]+!![]+!![]+!![]+!![]+!![]+[])+(!+[]+(!![])+!![])+(!+[]+(!![])+!![]+!![]+!![]+!![]+!![]+!![])+(!+[]-(!![]))+(!+[]+(!![])+!![]+!![])+(+!![])+(!+[]+(!![])+!![]+!![]+!![]+!![])+(!+[]+(!![])+!![]+!![])+(!+[]+(!![])+!![]+!![]+!![]+!![]+!![]))/+((+!![]+[])+(+!![])+(!+[]+(!![])+!![]+!![]+!![]+!![]+!![])+(!+[]+(!![])+!![]+!![])+(!+[]+(!![])-[])+(!+[]+(!![])+!![])+(!+[]+(!![])+!![]+!![]+!![]+!![]+!![])+(!+[]+(!![])+!![]+!![]+!![]+!![]+!![])+(!+[]+(!![])+!![]));lIOWlcG.GfOKxZUtNJY*=+((!+[]+(!![])+!![]+!![]+!![]+!![]+!![]+!![]+[])+(!+[]+(!![])+!![])+(!+[]+(!![])+!![]+!![]+!![]+!![]+!![]+!![])+(!+[]-(!![]))+(!+[]+(!![])+!![]+!![])+(+!![])+(!+[]+(!![])+!![]+!![]+!![]+!![])+(!+[]+(!![])+!![]+!![])+(!+[]+(!![])+!![]+!![]+!![]+!![]+!![]))/+((!+[]+(!![])+!![]+[])+(!+[]+(!![])+!![])+(!+[]+(!![])+!![]+!![]+!![]+!![]+!![]+!![])+(!+[]+(!![])+!![]+!![]+!![]+!![]+!![]+!![])+(!+[]-(!![]))+(!+[]+(!![])+!![]+!![]+!![]+!![]+!![])+(!+[]+(!![])+!![]+!![]+!![]+!![]+!![]+!![]+!![])+(!+[]+(!![])+!![])+(!+[]+(!![])+!![]));lIOWlcG.GfOKxZUtNJY+=+((!+[]+(!![])+!![]+!![]+!![]+!![]+!![]+[])+(!+[]+(!![])+!![]+!![]+!![]+!![]+!![]+!![]+!![])+(!+[]+(!![])+!![]+!![]+!![]+!![]+!![])+(!+[]-(!![]))+(!+[]-(!![]))+(!+[]+(!![])+!![])+(!+[]+(!![])+!![]+!![])+(!+[]+(!![])+!![])+(!+[]+(!![])+!![]+!![]+!![]+!![]+!![]))/+((!+[]+(!![])+!![]+!![]+!![]+!![]+!![]+!![]+!![]+[])+(!+[]+(!![])+!![]+!![]+!![]+!![]+!![]+!![])+(!+[]+(!![])+!![]+!![]+!![]+!![])+(!+[]+(!![])+!![]+!![]+!![]+!![])+(!+[]-(!![]))+(!+[]+(!![])+!![]+!![]+!![]+!![]+!![]+!![])+(+!![])+(!+[]+(!![])+!![]+!![]+!![]+!![])+(+!![]));lIOWlcG.GfOKxZUtNJY*=+((!+[]+(!![])+!![]+!![]+!![]+!![]+!![]+!![]+!![]+[])+(!+[]+(!![])-[])+(!+[]-(!![]))+(!+[]+(!![])+!![]+!![])+(+!![])+(!+[]+(!![])+!![]+!![]+!![]+!![]+!![]+!![]+!![])+(!+[]+(!![])+!![]+!![]+!![]+!![]+!![]+!![])+(!+[]+(!![])-[])+(!+[]+(!![])+!![]))/+((!+[]+(!![])+!![]+!![]+!![]+!![]+!![]+[])+(!+[]+(!![])+!![])+(!+[]+(!![])+!![]+!![]+!![]+!![]+!![]+!![])+(+!![])+(!+[]+(!![])+!![]+!![]+!![]+!![])+(!+[]+(!![])+!![]+!![]+!![]+!![]+!![]+!![]+!![])+(!+[]+(!![])+!![]+!![]+!![]+!![]+!![]+!![]+!![])+(!+[]+(!![])+!![]+!![]+!![]+!![]+!![])+(!+[]+(!![])+!![]+!![]));lIOWlcG.GfOKxZUtNJY+=+((!+[]+(!![])+!![]+!![]+!![]+!![]+!![]+!![]+[])+(!+[]+(!![])+!![])+(!+[]+(!![])+!![]+!![]+!![]+!![]+!![]+!![])+(!+[]-(!![]))+(!+[]+(!![])+!![]+!![])+(+!![])+(!+[]+(!![])+!![]+!![]+!![]+!![])+(!+[]+(!![])+!![]+!![])+(+!![]))/+((!+[]+(!![])+!![]+[])+(!+[]-(!![]))+(!+[]+(!![])+!![]+!![]+!![]+!![]+!![])+(!+[]-(!![]))+(!+[]+(!![])-[])+(!+[]+(!![])+!![]+!![]+!![]+!![]+!![]+!![]+!![])+(!+[]+(!![])+!![])+(!+[]+(!![])+!![])+(!+[]+(!![])+!![]+!![]+!![]+!![]+!![]));lIOWlcG.GfOKxZUtNJY+=+((!+[]+(!![])+!![]+!![]+!![]+!![]+!![]+!![]+[])+(!+[]+(!![])+!![])+(!+[]+(!![])+!![]+!![]+!![]+!![]+!![]+!![])+(!+[]-(!![]))+(!+[]+(!![])+!![]+!![])+(+!![])+(!+[]+(!![])+!![]+!![]+!![]+!![])+(!+[]+(!![])+!![]+!![])+(+!![]))/+((!+[]+(!![])+!![]+!![]+!![]+[])+(!+[]+(!![])+!![]+!![]+!![]+!![]+!![]+!![])+(!+[]+(!![])+!![]+!![]+!![])+(!+[]+(!![])+!![]+!![]+!![]+!![]+!![]+!![])+(+!![])+(!+[]+(!![])+!![])+(+!![])+(!+[]+(!![])+!![]+!![]+!![]+!![]+!![]+!![])+(!+[]+(!![])+!![]+!![]+!![]+!![]+!![]+!![]));lIOWlcG.GfOKxZUtNJY-=+((!+[]+(!![])+!![]+!![]+!![]+!![]+!![]+!![]+[])+(!+[]+(!![])+!![])+(!+[]+(!![])+!![]+!![]+!![]+!![]+!![]+!![])+(!+[]-(!![]))+(!+[]+(!![])+!![]+!![])+(+!![])+(!+[]+(!![])+!![]+!![]+!![]+!![])+(!+[]+(!![])+!![]+!![])+(+!![]))/+((!+[]+(!![])+!![]+!![]+!![]+[])+(!+[]+(!![])+!![])+(!+[]+(!![])+!![])+(!+[]+(!![])+!![])+(!+[]+(!![])+!![]+!![]+!![]+!![]+!![]+!![])+(!+[]+(!![])+!![]+!![])+(!+[]+(!![])+!![]+!![]+!![]+!![]+!![])+(!+[]+(!![])-[])+(!+[]-(!![])));lIOWlcG.GfOKxZUtNJY-=+((!+[]+(!![])+!![]+!![]+!![]+!![]+!![]+!![]+[])+(+!![])+(!+[]+(!![])+!![]+!![]+!![]+!![]+!![])+(!+[]+(!![])+!![]+!![]+!![])+(!+[]-(!![]))+(!+[]+(!![])+!![]+!![])+(!+[]+(!![])-[])+(!+[]+(!![])+!![]+!![]+!![])+(!+[]+(!![])+!![]))/(+(+((!+[]+(!![])+!![]+!![]+!![]+[])+(!+[]+(!![])+!![]+!![]+!![])+(!+[]-(!![]))+(+!![])+(!+[]+(!![])+!![]+!![]+!![]+!![]+!![]+!![])+(!+[]+(!![])+!![])+(!+[]+(!![])+!![])+(!+[]+(!![])+!![]+!![]+!![]+!![]+!![])+(!+[]+(!![])+!![])))+(function(p){return eval((true+\"\")[0]+\".ch\"+(false+\"\")[1]+(true+\"\")[1]+Function(\"return escape\")()((\"\")[\"italics\"]())[2]+\"o\"+(undefined+\"\")[2]+(true+\"\")[3]+\"A\"+(true+\"\")[0]+\"(\"+p+\")\")}(+((!+[]+(!![])+!![]+!![]+!![]+[])))));lIOWlcG.GfOKxZUtNJY+=+((!+[]+(!![])+!![]+!![]+!![]+!![]+!![]+[])+(!+[]+(!![])+!![]+!![]+!![]+!![]+!![]+!![]+!![])+(!+[]+(!![])+!![]+!![]+!![]+!![]+!![])+(!+[]-(!![]))+(!+[]-(!![]))+(!+[]+(!![])+!![])+(!+[]+(!![])+!![]+!![])+(!+[]+(!![])+!![])+(!+[]+(!![])+!![]+!![]+!![]+!![]+!![]))/+((+!![]+[])+(!+[]+(!![])+!![]+!![]+!![]+!![]+!![])+(!+[]+(!![])+!![]+!![]+!![])+(!+[]+(!![])+!![]+!![])+(!+[]+(!![])+!![])+(!+[]+(!![])+!![]+!![])+(!+[]-(!![]))+(!+[]+(!![])+!![]+!![]+!![]+!![]+!![]+!![])+(!+[]+(!![])+!![]+!![]));lIOWlcG.GfOKxZUtNJY+=+((!+[]+(!![])+!![]+!![]+!![]+!![]+!![]+!![]+[])+(!+[]+(!![])+!![])+(!+[]+(!![])+!![]+!![]+!![]+!![]+!![]+!![])+(!+[]-(!![]))+(!+[]+(!![])+!![]+!![])+(+!![])+(!+[]+(!![])+!![]+!![]+!![]+!![])+(!+[]+(!![])+!![]+!![])+(+!![]))/+((!+[]+(!![])-[]+[])+(!+[]-(!![]))+(+!![])+(!+[]+(!![])+!![])+(!+[]+(!![])+!![]+!![]+!![]+!![]+!![]+!![])+(!+[]+(!![])+!![]+!![]+!![])+(!+[]+(!![])+!![]+!![]+!![])+(!+[]+(!![])+!![]+!![]+!![]+!![])+(!+[]+(!![])+!![]+!![]+!![]+!![]+!![]));lIOWlcG.GfOKxZUtNJY-=+((!+[]+(!![])+!![]+!![]+!![]+!![]+!![]+!![]+[])+(+!![])+(!+[]+(!![])+!![]+!![]+!![]+!![]+!![])+(!+[]+(!![])+!![]+!![]+!![])+(!+[]-(!![]))+(!+[]+(!![])+!![]+!![])+(!+[]+(!![])-[])+(!+[]+(!![])+!![]+!![])+(!+[]+(!![])+!![]))/+((!+[]+(!![])-[]+[])+(!+[]+(!![])-[])+(!+[]+(!![])+!![]+!![]+!![]+!![]+!![]+!![])+(!+[]+(!![])+!![]+!![]+!![]+!![]+!![])+(!+[]+(!![])+!![]+!![]+!![]+!![]+!![]+!![])+(!+[]+(!![])+!![]+!![]+!![]+!![]+!![]+!![]+!![])+(!+[]-(!![]))+(!+[]+(!![])+!![]+!![]+!![]+!![]+!![]+!![]+!![])+(!+[]+(!![])-[]));lIOWlcG.GfOKxZUtNJY-=+((!+[]+(!![])+!![]+!![]+!![]+!![]+!![]+!![]+[])+(!+[]+(!![])+!![]+!![]+!![])+(!+[]+(!![])+!![]+!![]+!![]+!![]+!![]+!![])+(!+[]+(!![])+!![]+!![]+!![])+(!+[]+(!![])+!![]+!![]+!![]+!![]+!![]+!![]+!![])+(!+[]+(!![])+!![]+!![]+!![]+!![]+!![]+!![]+!![])+(!+[]+(!![])+!![]+!![]+!![])+(!+[]-(!![]))+(!+[]+(!![])+!![]))/+((!+[]+(!![])+!![]+!![]+!![]+!![]+!![]+!![]+[])+(!+[]+(!![])-[])+(!+[]-(!![]))+(!+[]+(!![])+!![]+!![]+!![]+!![]+!![]+!![]+!![])+(!+[]-(!![]))+(!+[]+(!![])+!![]+!![]+!![]+!![]+!![])+(!+[]+(!![])+!![]+!![]+!![]+!![]+!![]+!![])+(!+[]+(!![])+!![]+!![]+!![])+(!+[]+(!![])-[]));a.value = (+lIOWlcG.GfOKxZUtNJY).toFixed(10); '; 121'\n",
      "        f.action += location.hash;\n",
      "        return  f.submit();\n",
      "      },4000); /*eoc*/\n",
      "      \n",
      "    }, false);\n",
      "  })();\n",
      "  //]]>\n",
      "  </script>\n",
      " </head>\n",
      " <body>\n",
      "  <table cellpadding=\"20\" height=\"100%\" width=\"100%\">\n",
      "   <tr>\n",
      "    <td align=\"center\" valign=\"middle\">\n",
      "     <div class=\"cf-browser-verification cf-im-under-attack\">\n",
      "      <noscript>\n",
      "       <h1 data-translate=\"turn_on_js\" style=\"color:#bd2426;\">\n",
      "        Please turn JavaScript on and reload the page.\n",
      "       </h1>\n",
      "      </noscript>\n",
      "      <div id=\"cf-content\" style=\"display:none\">\n",
      "       <div id=\"cf-bubbles\">\n",
      "        <div class=\"bubbles\">\n",
      "        </div>\n",
      "        <div class=\"bubbles\">\n",
      "        </div>\n",
      "        <div class=\"bubbles\">\n",
      "        </div>\n",
      "       </div>\n",
      "       <h1>\n",
      "        <span data-translate=\"checking_browser\">\n",
      "         Checking your browser before accessing\n",
      "        </span>\n",
      "        hltv.org.\n",
      "       </h1>\n",
      "       <div data-translate=\"turn_on_cookies\" id=\"no-cookie-warning\" style=\"display:none\">\n",
      "        <p data-translate=\"turn_on_cookies\" style=\"color:#bd2426;\">\n",
      "         Please enable Cookies and reload the page.\n",
      "        </p>\n",
      "       </div>\n",
      "       <p data-translate=\"process_is_automatic\">\n",
      "        This process is automatic. Your browser will redirect to your requested content shortly.\n",
      "       </p>\n",
      "       <p data-translate=\"allow_5_secs\">\n",
      "        Please allow up to 5 seconds…\n",
      "       </p>\n",
      "      </div>\n",
      "      <form action=\"/stats/matches?startDate=2014-01-01&amp;endDate=2014-12-31&amp;offset=50&amp;__cf_chl_jschl_tk__=963674a533958434d3c5f115080f69ae6735eb5f-1599520326-0-AQudXfru_XRzJq9N51mMxuxUnonvAkuH_MHJAUMc3u3CCRmcY-DSW4JNPXtSJQoVzv8ZG5WPx9RKPupPFIF4nmyAlUSHhXwQ0gmqA4N37Ti9jXocrV5SbmaIaLSJCs6Ri_Oc_y9uvLUR7eT5qWj3jtgKz92ug9gzpLSRYfRtbOuZhrEKogYL7H6yw9a3J2pUh_1p62VbTMHPo0_qY5BBGq0fSZfSXBjkyJeH93lnySzC_gAWyMZXH_tFoudaH7UNQv5grJTITF0hgo6KKUGnFEMky0b2Uke02b_PAXhzaEMh9qVz0Wxxj3h_gkqPew5_FrC5lSCjbdcjcC62KQfKTMmiMeMMvYGTMhzHpGEPipeHy7P6pKl5AsIIBrKnHTtnyxD6xpWCONCVbs2yFUCZxl4\" class=\"challenge-form\" enctype=\"application/x-www-form-urlencoded\" id=\"challenge-form\" method=\"POST\">\n",
      "       <input name=\"r\" type=\"hidden\" value=\"708a4f2715e30e85fe59a59f2d18ee5570084309-1599520326-0-AUN+YJ0MZ29Hn055g+iEfMhMP2zcNxIBNsAYujMUmdwybTUV+yrPFlKSszqjxHprJFigKxBUxUq6DzAJUrvnA4I48vX+dKsLCj99AJvK4agFmC8sYfXXSxuGeG52SXd52vI7r+H0LFg86qgRW756RFe2S0AaCI3oOGWKzzwraQJUsYCZ3dEGmhuITB92bNFGfN82uV2e68lrnMPXFo+PmLoplDDO1Ltcs5X7sSpZGilSx8oXQILlZw2k1hLfAGtsu4lpvRJGpLDVYOmUJth+aMNR7Mkd9DwNsWxkCcNFFCqdOWBHOnpl/7wxOauYc9eHIIPfpUkBlOvAXlFadUdEA5fS+bkYOz1Wgki5C9AvPq7VLteYC4+Y/R1vUYcClLhNIioXMkkTe4N6vnPL4LUoAqM2R1GY7OAWe1pAj/ddtauKEHwNuC9VeC1OZyJ5y6RQ7m1+gEljvCWaeCaoKalwGZsHXGlYrPdDXjC7ZQeNLBiBOlUunYLpRK/r0NXtbX2oTa7N+OkjiCVZu+PBojnpXB2I6UjRhnoZPjNUnVNZkCQ8MgwY6fl3/OXoA5escfbSX/qQF8v0LO44WbW0lOg7Q2oYDVU/Qy55yKEl7pVLXb8sJzBQMQBemmlBjmaVKmvzdozbNX1vHH42lc2QFBXGOg9zwORK5toFfFIDB5iSfBAWSZXzqVW8t+rgHVKdUvtnDGC2B0GV7JWIM7rozj7nUkeL6uCFCmk8wKiGzw7pDKNBNVgpbikqXH6vGvHBKwfJ6cAaSyHNaWNRLHmUSgVvyunkMDPk+SPEs2vlwNtpN+ZdRdTnavw1F+u+4AXL2hnKG+sznOvNouiSlxMKQrsZw0g55onu+v+l0Svlr1qODqKmuZdHEhGu5ZtLn6xLoFixMV1b/OAy+uW9OVaV4Qaw0ruWpRXB59hqRQCuDBmYFZfCQxekVuyj9xWGRcbnMjFbRj7q3qu3hFcHRgpYyJmC7K9rhgjLCg/MI0CeIrWoTDogntdi+e8iYF2QkK3sPkBNyQIItb4AxOjqiSMcPU3QW0uZeUdoLlsLNAP1gCAxqH2isazdti3evs0T6MfWiHW6shQ6ieRsxyJldjsXnP7OD8R6oYcVnQK6DYneGbmq92AF2Irsja/9dhfB2FrBkAV4xPEa7Z9I2nZemF4xZgx3g6n5AXTVvptR7nyGUBYmZNLPBwqHl3U0ZkGgmyp9oJ+y0/MATQnJ/qQIV8YLodUZCGEGqN6xvCYThFCFQk3GGHBJHeBRlwJZ4ezStfjwFvRyVQqP6K/CefXjGnk1ICgt2A2yve4/6ywWd8MzWDuohz66N7JnbTXReGqlFbzFb5CvGDwjJhz2YG7c4An1B7mC6q5eCMuSiUMG8XxWVkEFC83mT8F2Sk5douEvb9Lh43Mq7g==\"/>\n",
      "       <input id=\"jschl-vc\" name=\"jschl_vc\" type=\"hidden\" value=\"32be28a6c2603fff0c7b327877b55fe2\"/>\n",
      "       <!-- <input type=\"hidden\" value=\"563bd0cdef90d6c82f3f468757b15dd8\" id=\"jschl-vc\" name=\"jschl_vc\"/> -->\n",
      "       <input name=\"pass\" type=\"hidden\" value=\"1599520330.87-jaoH4/iN9m\"/>\n",
      "       <input id=\"jschl-answer\" name=\"jschl_answer\" type=\"hidden\"/>\n",
      "      </form>\n",
      "      <div style=\"display:none;visibility:hidden;\">\n",
      "       <div id=\"qqJfabkPM2\">\n",
      "        +((!+[]+(!![])+!![]+!![]+!![]+!![]+!![]+!![]+[])+(+!![])+(!+[]+(!![])+!![]+!![]+!![]+!![]+!![])+(!+[]+(!![])+!![]+!![]+!![])+(!+[]-(!![]))+(!+[]+(!![])+!![]+!![])+(!+[]+(!![])-[])+(!+[]+(!![])+!![]+!![]+!![])+(!+[]+(!![])+!![]))/+((!+[]+(!![])+!![]+!![]+[])+(!+[]+(!![])+!![]+!![]+!![]+!![]+!![]+!![])+(!+[]+(!![])+!![]+!![]+!![]+!![]+!![])+(!+[]+(!![])+!![]+!![]+!![])+(+!![])+(!+[]+(!![])+!![]+!![]+!![]+!![]+!![]+!![])+(!+[]+(!![])-[])+(!+[]+(!![])+!![]+!![]+!![]+!![]+!![]+!![])+(!+[]+(!![])+!![]+!![]+!![]+!![]+!![]+!![]+!![]))\n",
      "       </div>\n",
      "       <div id=\"qqJfabkPM6\">\n",
      "        +((!+[]+(!![])+!![]+!![]+!![]+!![]+!![]+!![]+[])+(+!![])+(!+[]+(!![])+!![]+!![]+!![]+!![]+!![])+(!+[]+(!![])+!![]+!![]+!![])+(!+[]-(!![]))+(!+[]+(!![])+!![]+!![])+(!+[]+(!![])-[])+(!+[]+(!![])+!![]+!![])+(!+[]+(!![])+!![]))/+((+!![]+[])+(!+[]+(!![])+!![]+!![]+!![])+(!+[]+(!![])+!![]+!![]+!![]+!![]+!![])+(!+[]+(!![])+!![])+(!+[]+(!![])+!![]+!![]+!![])+(!+[]+(!![])+!![]+!![]+!![]+!![]+!![])+(!+[]+(!![])+!![]+!![]+!![]+!![]+!![]+!![]+!![])+(!+[]+(!![])+!![])+(+!![]))\n",
      "       </div>\n",
      "       <div id=\"qqJfabkPM1\">\n",
      "        +((!+[]+(!![])+!![]+!![]+!![]+!![]+!![]+!![]+[])+(+!![])+(!+[]+(!![])+!![]+!![]+!![]+!![]+!![])+(!+[]+(!![])+!![]+!![]+!![])+(!+[]-(!![]))+(!+[]+(!![])+!![]+!![])+(!+[]+(!![])-[])+(!+[]+(!![])+!![]+!![]+!![])+(!+[]+(!![])+!![]))/+((!+[]+(!![])+!![]+!![]+!![]+!![]+!![]+!![]+!![]+[])+(!+[]+(!![])+!![]+!![]+!![]+!![]+!![]+!![]+!![])+(+!![])+(+!![])+(!+[]+(!![])+!![]+!![]+!![]+!![])+(!+[]+(!![])+!![]+!![]+!![]+!![]+!![]+!![])+(+!![])+(!+[]+(!![])+!![]+!![]+!![]+!![]+!![]+!![])+(!+[]+(!![])+!![]+!![]+!![]+!![]))\n",
      "       </div>\n",
      "       <div id=\"qqJfabkPM7\">\n",
      "        +((!+[]+(!![])+!![]+!![]+!![]+!![]+!![]+[])+(!+[]+(!![])+!![]+!![]+!![]+!![]+!![]+!![]+!![])+(!+[]+(!![])+!![]+!![]+!![]+!![]+!![])+(!+[]-(!![]))+(!+[]-(!![]))+(!+[]+(!![])+!![])+(!+[]+(!![])+!![]+!![])+(!+[]+(!![])+!![])+(!+[]+(!![])+!![]+!![]+!![]+!![]+!![]))/+((!+[]+(!![])+!![]+[])+(!+[]+(!![])+!![]+!![]+!![]+!![]+!![])+(!+[]+(!![])-[])+(!+[]-(!![]))+(!+[]+(!![])+!![]+!![]+!![]+!![]+!![]+!![]+!![])+(!+[]+(!![])+!![]+!![]+!![]+!![]+!![])+(!+[]+(!![])+!![]+!![]+!![]+!![]+!![]+!![]+!![])+(!+[]+(!![])+!![]+!![]+!![])+(!+[]+(!![])+!![]+!![]+!![]))\n",
      "       </div>\n",
      "       <div id=\"qqJfabkPM4\">\n",
      "        +((!+[]+(!![])+!![]+!![]+!![]+!![]+!![]+!![]+[])+(+!![])+(!+[]+(!![])+!![]+!![]+!![]+!![]+!![])+(!+[]+(!![])+!![]+!![]+!![])+(!+[]-(!![]))+(!+[]+(!![])+!![]+!![])+(!+[]+(!![])-[])+(!+[]+(!![])+!![]+!![])+(!+[]+(!![])+!![]))/+((!+[]+(!![])+!![]+!![]+!![]+!![]+!![]+!![]+!![]+[])+(!+[]+(!![])+!![]+!![]+!![]+!![]+!![]+!![])+(!+[]+(!![])+!![]+!![]+!![])+(!+[]+(!![])+!![]+!![]+!![]+!![])+(!+[]+(!![])+!![]+!![]+!![])+(!+[]+(!![])+!![]+!![]+!![]+!![]+!![])+(!+[]+(!![])+!![]+!![]+!![]+!![]+!![]+!![]+!![])+(!+[]+(!![])-[])+(!+[]+(!![])+!![]+!![]+!![]))\n",
      "       </div>\n",
      "       <div id=\"qqJfabkPM8\">\n",
      "        +((!+[]+(!![])+!![]+!![]+!![]+!![]+!![]+!![]+!![]+[])+(!+[]+(!![])+!![]+!![])+(+!![])+(!+[]-(!![]))+(!+[]+(!![])+!![]+!![]+!![]+!![]+!![]+!![])+(!+[]+(!![])+!![])+(!+[]+(!![])+!![]+!![]+!![]+!![]+!![]+!![]+!![])+(!+[]+(!![])+!![]+!![]+!![]+!![]+!![]+!![])+(+!![]))/+((!+[]+(!![])+!![]+!![]+!![]+[])+(!+[]+(!![])-[])+(!+[]+(!![])-[])+(!+[]+(!![])+!![]+!![]+!![])+(!+[]+(!![])+!![]+!![]+!![])+(!+[]+(!![])-[])+(!+[]+(!![])+!![]+!![]+!![]+!![]+!![]+!![]+!![])+(!+[]-(!![]))+(!+[]+(!![])+!![]))\n",
      "       </div>\n",
      "       <div id=\"qqJfabkPM3\">\n",
      "        +((!+[]+(!![])+!![]+!![]+!![]+!![]+!![]+!![]+[])+(!+[]+(!![])+!![])+(!+[]+(!![])+!![]+!![]+!![]+!![]+!![]+!![])+(!+[]-(!![]))+(!+[]+(!![])+!![]+!![])+(+!![])+(!+[]+(!![])+!![]+!![]+!![]+!![])+(!+[]+(!![])+!![]+!![])+(+!![]))/+((!+[]+(!![])+!![]+!![]+!![]+!![]+!![]+!![]+!![]+[])+(!+[]+(!![])+!![]+!![]+!![])+(!+[]+(!![])+!![]+!![]+!![]+!![]+!![]+!![])+(!+[]+(!![])+!![]+!![]+!![]+!![]+!![]+!![]+!![])+(!+[]+(!![])+!![]+!![]+!![])+(+!![])+(!+[]+(!![])+!![]+!![]+!![])+(!+[]-(!![]))+(!+[]+(!![])+!![]+!![]+!![]))\n",
      "       </div>\n",
      "       <div id=\"qqJfabkPM5\">\n",
      "        +((!+[]+(!![])+!![]+!![]+!![]+!![]+!![]+!![]+[])+(!+[]+(!![])+!![])+(!+[]+(!![])+!![]+!![]+!![]+!![]+!![]+!![])+(!+[]-(!![]))+(!+[]+(!![])+!![]+!![])+(+!![])+(!+[]+(!![])+!![]+!![]+!![]+!![])+(!+[]+(!![])+!![]+!![])+(!+[]+(!![])+!![]+!![]+!![]+!![]+!![]))/+((!+[]+(!![])+!![]+!![]+!![]+!![]+[])+(!+[]+(!![])+!![]+!![]+!![]+!![])+(!+[]-(!![]))+(!+[]+(!![])+!![]+!![]+!![]+!![]+!![])+(!+[]+(!![])+!![]+!![]+!![]+!![]+!![]+!![]+!![])+(!+[]+(!![])-[])+(!+[]+(!![])+!![]+!![]+!![]+!![]+!![]+!![]+!![])+(+!![])+(!+[]+(!![])+!![]+!![]+!![]+!![]+!![]))\n",
      "       </div>\n",
      "      </div>\n",
      "      <div id=\"trk_jschal_nojs\" style=\"background-image:url('/cdn-cgi/images/trace/jschal/nojs/transparent.gif?ray=5cf41cdaeda02f61')\">\n",
      "      </div>\n",
      "     </div>\n",
      "     <div class=\"attribution\">\n",
      "      DDoS protection by\n",
      "      <a href=\"https://www.cloudflare.com/5xx-error-landing/\" target=\"_blank\">\n",
      "       Cloudflare\n",
      "      </a>\n",
      "      <br/>\n",
      "      <span class=\"ray_id\">\n",
      "       Ray ID:\n",
      "       <code>\n",
      "        5cf41cdaeda02f61\n",
      "       </code>\n",
      "      </span>\n",
      "     </div>\n",
      "    </td>\n",
      "   </tr>\n",
      "  </table>\n",
      " </body>\n",
      "</html>\n",
      "\n"
     ]
    }
   ],
   "source": [
    "print(soup.prettify())"
   ]
  },
  {
   "cell_type": "code",
   "execution_count": 27,
   "metadata": {},
   "outputs": [
    {
     "name": "stdout",
     "output_type": "stream",
     "text": [
      "[<a href=\"https://www.cloudflare.com/5xx-error-landing/\" target=\"_blank\">Cloudflare</a>]\n"
     ]
    }
   ],
   "source": [
    "# https://www.hltv.org/stats/teams/10426/Wisla%20Krakow"
   ]
  },
  {
   "cell_type": "code",
   "execution_count": 31,
   "metadata": {},
   "outputs": [
    {
     "data": {
      "text/plain": [
       "[]"
      ]
     },
     "execution_count": 31,
     "metadata": {},
     "output_type": "execute_result"
    }
   ],
   "source": [
    "team_links('https://www.hltv.org/stats/matches', '/stats/teams/', 10)"
   ]
  },
  {
   "cell_type": "code",
   "execution_count": 20,
   "metadata": {},
   "outputs": [
    {
     "data": {
      "text/plain": [
       "0"
      ]
     },
     "execution_count": 20,
     "metadata": {},
     "output_type": "execute_result"
    }
   ],
   "source": [
    "len(team_url)"
   ]
  },
  {
   "cell_type": "code",
   "execution_count": 21,
   "metadata": {},
   "outputs": [
    {
     "data": {
      "text/plain": [
       "[]"
      ]
     },
     "execution_count": 21,
     "metadata": {},
     "output_type": "execute_result"
    }
   ],
   "source": [
    "team_url"
   ]
  },
  {
   "cell_type": "code",
   "execution_count": 57,
   "metadata": {},
   "outputs": [],
   "source": [
    "list_17 = []\n",
    "for link in players_url:\n",
    "    \n",
    "    home_url = \"https://www.hltv.org/\" + link\n",
    "    \n",
    "    req_url = requests.get(home_url)\n",
    "        \n",
    "    soup = BeautifulSoup(req_url.text)\n",
    "    \n",
    "    player_dict = {}\n",
    "    \n",
    "    player_dict['Name'] = soup.find('h1').text\n",
    "    \n",
    "    data = soup.find_all('span')\n",
    "    \n",
    "    for i, span in enumerate(data):\n",
    "        if 'Total kills' in span:\n",
    "            player_dict['total_kills'] = data[i+1].text\n",
    "        if 'Headshot %' in span:\n",
    "            player_dict['headshot_%'] = data[i+1].text\n",
    "        if 'Total deaths' in span:\n",
    "            player_dict['total_deaths'] = data[i+1].text\n",
    "        if 'K/D Ratio' in span:\n",
    "            player_dict['k/d_ratio'] = data[i+1].text\n",
    "        if 'Damage / Round' in span:\n",
    "            player_dict['damage/round'] = data[i+1].text\n",
    "        if 'Grenade dmg / Round' in span:\n",
    "            player_dict['grenadedmg/round'] = data[i+1].text\n",
    "        if 'Maps played' in span:\n",
    "            player_dict['maps_played'] = data[i+1].text\n",
    "        if 'Rounds played' in span:\n",
    "            player_dict['rounds_played'] = data[i+1].text\n",
    "        if 'Kills / round' in span:\n",
    "            player_dict['kills/round'] = data[i+1].text\n",
    "        if 'Assists / round' in span:\n",
    "            player_dict['assists/round'] = data[i+1].text\n",
    "        if 'Deaths / round' in span:\n",
    "            player_dict['death/round'] = data[i+1].text\n",
    "        if 'Saved by teammate / round' in span:\n",
    "            player_dict['savedbyteammate/round'] = data[i+1].text\n",
    "        if 'Saved teammates / round' in span:\n",
    "            player_dict['savedteammates/round'] = data[i+1].text\n",
    "        \n",
    "    \n",
    "    list_17.append(player_dict)"
   ]
  }
 ],
 "metadata": {
  "kernelspec": {
   "display_name": "Python [conda env:learn-env] *",
   "language": "python",
   "name": "conda-env-learn-env-py"
  },
  "language_info": {
   "codemirror_mode": {
    "name": "ipython",
    "version": 3
   },
   "file_extension": ".py",
   "mimetype": "text/x-python",
   "name": "python",
   "nbconvert_exporter": "python",
   "pygments_lexer": "ipython3",
   "version": "3.6.9"
  }
 },
 "nbformat": 4,
 "nbformat_minor": 2
}
