{
 "cells": [
  {
   "cell_type": "code",
   "execution_count": 25,
   "metadata": {},
   "outputs": [],
   "source": [
    "import requests \n",
    "from bs4 import BeautifulSoup\n",
    "\n",
    "import pandas as pd\n",
    "import numpy as np\n",
    "import seaborn as sns\n",
    "import matplotlib.pyplot as plt"
   ]
  },
  {
   "cell_type": "code",
   "execution_count": 26,
   "metadata": {},
   "outputs": [],
   "source": [
    "def links(urls, x):\n",
    "    \"\"\"\n",
    "    Function to get website urls\n",
    "    Takes in a url from any website \n",
    "    and a filter by to search for what urls start with\n",
    "    \n",
    "    \"\"\"\n",
    "    new_list = []\n",
    "    content = requests.get(urls)\n",
    "\n",
    "    soup = BeautifulSoup(content.text, 'html.parser')\n",
    "    href = soup.find_all('a', href = True)\n",
    "    for link in href:\n",
    "        if link['href'].startswith(x):\n",
    "            new_list.append(link['href'])\n",
    "    \n",
    "    return new_list"
   ]
  },
  {
   "cell_type": "code",
   "execution_count": 27,
   "metadata": {},
   "outputs": [],
   "source": [
    "def players_links(url, x, limit):\n",
    "    \"\"\"\n",
    "    import bs4\n",
    "    import request\n",
    "    Gets back a list of url \n",
    "    argument url takes a actual url\n",
    "    x filters out href elements\n",
    "    Created by Jesus Christ\n",
    "    \n",
    "    \"\"\"\n",
    "    players_li = []\n",
    "    movie_url = url\n",
    "    req_url = requests.get(movie_url)\n",
    "    soup = BeautifulSoup(req_url.text, 'html.parser')\n",
    "    href = soup.find_all('a', href = True)\n",
    "    for links in href: \n",
    "        if links['href'].startswith(x):\n",
    "            players_li.append(links['href'])\n",
    "    return(players_li[0:limit])\n"
   ]
  },
  {
   "cell_type": "code",
   "execution_count": 31,
   "metadata": {},
   "outputs": [],
   "source": [
    "stats_page = 'https://www.hltv.org/stats/players?startDate=all'"
   ]
  },
  {
   "cell_type": "code",
   "execution_count": 32,
   "metadata": {},
   "outputs": [],
   "source": [
    "players_url = players_links(stats_page, '/stats/players/', 696)"
   ]
  },
  {
   "cell_type": "code",
   "execution_count": 33,
   "metadata": {},
   "outputs": [
    {
     "data": {
      "text/plain": [
       "0"
      ]
     },
     "execution_count": 33,
     "metadata": {},
     "output_type": "execute_result"
    }
   ],
   "source": [
    "len(players_url)"
   ]
  },
  {
   "cell_type": "code",
   "execution_count": 20,
   "metadata": {
    "scrolled": false
   },
   "outputs": [
    {
     "data": {
      "text/plain": [
       "[]"
      ]
     },
     "execution_count": 20,
     "metadata": {},
     "output_type": "execute_result"
    }
   ],
   "source": [
    "players_url"
   ]
  },
  {
   "cell_type": "code",
   "execution_count": 8,
   "metadata": {},
   "outputs": [],
   "source": [
    "list_17 = []\n",
    "for link in players_url:\n",
    "    \n",
    "    home_url = \"https://www.hltv.org/\" + link\n",
    "    \n",
    "    req_url = requests.get(home_url)\n",
    "        \n",
    "    soup = BeautifulSoup(req_url.text)\n",
    "    \n",
    "    player_dict = {}\n",
    "    \n",
    "    player_dict['Name'] = soup.find('h1').text\n",
    "    \n",
    "    table = soup.find('div', class_='summaryInfoContainer')\n",
    "    player_dict['Team'] = table.find('div', class_='SummaryTeamname').text  \n",
    "    \n",
    "    data = soup.find_all('span')\n",
    "    \n",
    "    for i, span in enumerate(data):\n",
    "        if 'Total kills' in span:\n",
    "            player_dict['total_kills'] = data[i+1].text\n",
    "        if 'Headshot %' in span:\n",
    "            player_dict['headshot_%'] = data[i+1].text\n",
    "        if 'Total deaths' in span:\n",
    "            player_dict['total_deaths'] = data[i+1].text\n",
    "        if 'K/D Ratio' in span:\n",
    "            player_dict['k/d_ratio'] = data[i+1].text\n",
    "        if 'Damage / Round' in span:\n",
    "            player_dict['damage/round'] = data[i+1].text\n",
    "        if 'Grenade dmg / Round' in span:\n",
    "            player_dict['grenadedmg/round'] = data[i+1].text\n",
    "        if 'Maps played' in span:\n",
    "            player_dict['maps_played'] = data[i+1].text\n",
    "        if 'Rounds played' in span:\n",
    "            player_dict['rounds_played'] = data[i+1].text\n",
    "        if 'Kills / round' in span:\n",
    "            player_dict['kills/round'] = data[i+1].text\n",
    "        if 'Assists / round' in span:\n",
    "            player_dict['assists/round'] = data[i+1].text\n",
    "        if 'Deaths / round' in span:\n",
    "            player_dict['death/round'] = data[i+1].text\n",
    "        if 'Saved by teammate / round' in span:\n",
    "            player_dict['savedbyteammate/round'] = data[i+1].text\n",
    "        if 'Saved teammates / round' in span:\n",
    "            player_dict['savedteammates/round'] = data[i+1].text\n",
    "        \n",
    "    \n",
    "    list_17.append(player_dict)"
   ]
  },
  {
   "cell_type": "code",
   "execution_count": 9,
   "metadata": {},
   "outputs": [
    {
     "data": {
      "text/plain": [
       "[]"
      ]
     },
     "execution_count": 9,
     "metadata": {},
     "output_type": "execute_result"
    }
   ],
   "source": [
    "list_17"
   ]
  },
  {
   "cell_type": "code",
   "execution_count": 10,
   "metadata": {},
   "outputs": [],
   "source": [
    "df = pd.DataFrame(list_17)"
   ]
  },
  {
   "cell_type": "code",
   "execution_count": 11,
   "metadata": {},
   "outputs": [
    {
     "ename": "ValueError",
     "evalue": "Cannot describe a DataFrame without columns",
     "output_type": "error",
     "traceback": [
      "\u001b[0;31m---------------------------------------------------------------------------\u001b[0m",
      "\u001b[0;31mValueError\u001b[0m                                Traceback (most recent call last)",
      "\u001b[0;32m<ipython-input-11-ea8415b8a3ee>\u001b[0m in \u001b[0;36m<module>\u001b[0;34m\u001b[0m\n\u001b[0;32m----> 1\u001b[0;31m \u001b[0mdf\u001b[0m\u001b[0;34m.\u001b[0m\u001b[0mdescribe\u001b[0m\u001b[0;34m(\u001b[0m\u001b[0;34m)\u001b[0m\u001b[0;34m\u001b[0m\u001b[0;34m\u001b[0m\u001b[0m\n\u001b[0m",
      "\u001b[0;32m~/opt/anaconda3/envs/learn-env/lib/python3.6/site-packages/pandas/core/generic.py\u001b[0m in \u001b[0;36mdescribe\u001b[0;34m(self, percentiles, include, exclude)\u001b[0m\n\u001b[1;32m  10176\u001b[0m         \"\"\"\n\u001b[1;32m  10177\u001b[0m         \u001b[0;32mif\u001b[0m \u001b[0mself\u001b[0m\u001b[0;34m.\u001b[0m\u001b[0mndim\u001b[0m \u001b[0;34m==\u001b[0m \u001b[0;36m2\u001b[0m \u001b[0;32mand\u001b[0m \u001b[0mself\u001b[0m\u001b[0;34m.\u001b[0m\u001b[0mcolumns\u001b[0m\u001b[0;34m.\u001b[0m\u001b[0msize\u001b[0m \u001b[0;34m==\u001b[0m \u001b[0;36m0\u001b[0m\u001b[0;34m:\u001b[0m\u001b[0;34m\u001b[0m\u001b[0;34m\u001b[0m\u001b[0m\n\u001b[0;32m> 10178\u001b[0;31m             \u001b[0;32mraise\u001b[0m \u001b[0mValueError\u001b[0m\u001b[0;34m(\u001b[0m\u001b[0;34m\"Cannot describe a DataFrame without columns\"\u001b[0m\u001b[0;34m)\u001b[0m\u001b[0;34m\u001b[0m\u001b[0;34m\u001b[0m\u001b[0m\n\u001b[0m\u001b[1;32m  10179\u001b[0m \u001b[0;34m\u001b[0m\u001b[0m\n\u001b[1;32m  10180\u001b[0m         \u001b[0;32mif\u001b[0m \u001b[0mpercentiles\u001b[0m \u001b[0;32mis\u001b[0m \u001b[0;32mnot\u001b[0m \u001b[0;32mNone\u001b[0m\u001b[0;34m:\u001b[0m\u001b[0;34m\u001b[0m\u001b[0;34m\u001b[0m\u001b[0m\n",
      "\u001b[0;31mValueError\u001b[0m: Cannot describe a DataFrame without columns"
     ]
    }
   ],
   "source": [
    "df.describe()"
   ]
  },
  {
   "cell_type": "code",
   "execution_count": null,
   "metadata": {},
   "outputs": [],
   "source": [
    "df['headshot_%'] = (df['headshot_%'].str.split('%').str[0].astype(np.float)/100)"
   ]
  },
  {
   "cell_type": "code",
   "execution_count": null,
   "metadata": {
    "scrolled": true
   },
   "outputs": [],
   "source": [
    "df"
   ]
  },
  {
   "cell_type": "code",
   "execution_count": null,
   "metadata": {},
   "outputs": [],
   "source": [
    "df.columns.tolist()[1:]"
   ]
  },
  {
   "cell_type": "code",
   "execution_count": null,
   "metadata": {},
   "outputs": [],
   "source": [
    "col_list = df.columns.tolist()[1:]\n",
    "col_list.remove('Name')\n",
    "col_list.remove('Team')\n",
    "for c in col_list:\n",
    "    df[c] = df[c].astype(float)"
   ]
  },
  {
   "cell_type": "code",
   "execution_count": null,
   "metadata": {},
   "outputs": [],
   "source": [
    "df.info()"
   ]
  },
  {
   "cell_type": "code",
   "execution_count": null,
   "metadata": {
    "scrolled": true
   },
   "outputs": [],
   "source": [
    "df.describe()"
   ]
  },
  {
   "cell_type": "code",
   "execution_count": null,
   "metadata": {},
   "outputs": [],
   "source": [
    "team_5 = pd.DataFrame((df['Team'].value_counts() == 5).astype(int))"
   ]
  },
  {
   "cell_type": "code",
   "execution_count": null,
   "metadata": {},
   "outputs": [],
   "source": [
    "len(team_5[team_5['Team'] == 231])"
   ]
  },
  {
   "cell_type": "code",
   "execution_count": null,
   "metadata": {},
   "outputs": [],
   "source": [
    "df['Team'].value_counts().unique()"
   ]
  },
  {
   "cell_type": "code",
   "execution_count": null,
   "metadata": {},
   "outputs": [],
   "source": [
    "len(df['Team'].unique())"
   ]
  },
  {
   "cell_type": "code",
   "execution_count": null,
   "metadata": {},
   "outputs": [],
   "source": [
    "from sklearn.cluster import KMeans\n",
    "from sklearn.preprocessing import MinMaxScaler\n",
    "from matplotlib import pyplot as plt\n",
    "%matplotlib inline"
   ]
  },
  {
   "cell_type": "code",
   "execution_count": null,
   "metadata": {},
   "outputs": [],
   "source": [
    "plt.scatter(df['headshot_%'], df['total_kills']);"
   ]
  },
  {
   "cell_type": "code",
   "execution_count": null,
   "metadata": {},
   "outputs": [],
   "source": [
    "km = KMeans(n_clusters=3)\n",
    "km"
   ]
  },
  {
   "cell_type": "code",
   "execution_count": null,
   "metadata": {},
   "outputs": [],
   "source": [
    "y_preds = km.fit_predict(df[['headshot_%', 'total_kills']])\n",
    "y_preds"
   ]
  },
  {
   "cell_type": "code",
   "execution_count": null,
   "metadata": {},
   "outputs": [],
   "source": [
    "df['cluster'] = y_preds\n",
    "df.head()"
   ]
  },
  {
   "cell_type": "code",
   "execution_count": null,
   "metadata": {},
   "outputs": [],
   "source": [
    "df1 = df[df.cluster==0]\n",
    "df2 = df[df.cluster==1]\n",
    "df3 = df[df.cluster==2]\n",
    "\n",
    "plt.scatter(df1['headshot_%'], df1.total_kills, color='green')\n",
    "plt.scatter(df2['headshot_%'], df2.total_kills, color='red')\n",
    "plt.scatter(df3['headshot_%'], df3.total_kills, color='blue')\n",
    "\n",
    "plt.xlabel('HeadShot %')\n",
    "plt.ylabel('Total Kills')\n",
    ";"
   ]
  },
  {
   "cell_type": "code",
   "execution_count": null,
   "metadata": {},
   "outputs": [],
   "source": []
  }
 ],
 "metadata": {
  "kernelspec": {
   "display_name": "Python [conda env:learn-env] *",
   "language": "python",
   "name": "conda-env-learn-env-py"
  },
  "language_info": {
   "codemirror_mode": {
    "name": "ipython",
    "version": 3
   },
   "file_extension": ".py",
   "mimetype": "text/x-python",
   "name": "python",
   "nbconvert_exporter": "python",
   "pygments_lexer": "ipython3",
   "version": "3.6.9"
  }
 },
 "nbformat": 4,
 "nbformat_minor": 2
}
